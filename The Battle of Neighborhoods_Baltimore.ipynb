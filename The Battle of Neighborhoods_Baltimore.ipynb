{
 "cells": [
  {
   "cell_type": "markdown",
   "metadata": {},
   "source": [
    "# 1. Introduction"
   ]
  },
  {
   "cell_type": "markdown",
   "metadata": {},
   "source": [
    "Baltimore, Maryland is infamous for its significantly high crime rate. Violent crime spiked in 2015 after the death of Freddie Gray, which touched off riots and has resulted in the huge increasing in murders. Baltimore recorded 344 homicides in 2015. To put that in perspective, New York City, a city with a 2015 population of 8,491,079, recorded a total of 339 homicides in 2015. Baltimore had a 2015 population of 621,849; which means that in 2015 Baltimore had a homicide rate 14 times higher than New York City's.\n",
    "\n",
    "However, Baltimore is also a tourism city with beautiful harbor and delicious seafood. The city hosted about 25 million visitors a year, which is about 8% of the population in U.S. In order to give a better guidance to the visitors, this project will focus on the analysis crime in Baltimore and will find out the safest area in Baltimore with view suggestions according to the Foursquare location data."
   ]
  },
  {
   "cell_type": "markdown",
   "metadata": {},
   "source": [
    "# 2. Data Aquisition and Data Cleaning"
   ]
  },
  {
   "cell_type": "markdown",
   "metadata": {},
   "source": [
    "## 2.1 Data Aquisition"
   ]
  },
  {
   "cell_type": "markdown",
   "metadata": {},
   "source": [
    "The data for this project are two sorces. The first dataset is the [crime in Baltimore for 2012-2017](https://www.kaggle.com/sohier/crime-in-baltimore/kernels) from [Kaggle](https://www.kaggle.com/). This data presents all the crimes recorded from 2012 to 2017 in Baltimore. This data set contains the following __columns__:\n",
    "\n",
    "* **CrimeDate**: Indicate the crime data in form of MM/DD/YYYY\n",
    "* **CrimeTime**: Indicate the crime time in form of HH/MM/SS\n",
    "* **CrimeCode**: Indicate the crime code of the crime event\n",
    "* **Location**: Indicate the street location of the crime event\n",
    "* **Description**: Indicate the type of crime, eg: Robbery/Shooting...\n",
    "* **Inside/Outside**: Indicate whether the crime event happend inside or outside\n",
    "* **Weapon**: Indicate the weapon used for the crime event\n",
    "* **Post**: Not clear\n",
    "* **District**: Indicate the district of the crime happened\n",
    "* **Neighborhood**: Indicate the neighborhood of the crime happened\n",
    "* **Longitude**: Coordinates Information\n",
    "* **Latitude**: Coordinates Information\n",
    "* **Location 1**: In form of (Latitude, Longitude)\n",
    "* **Premise**: Indicate the type of location where the crime event happened.\n",
    "* **Total incidents**: Indicate the number of incidents under this record (usually equals to 1)"
   ]
  },
  {
   "cell_type": "markdown",
   "metadata": {},
   "source": [
    "The second dataset is the Foursquare location data which contains the venue information grouped by neighborhood. This data set contains the following **columns**:\n",
    "\n",
    "* **Neighborhood**: The name of neighborhood\n",
    "* **Neighborhood Latitude**: Coordinates information\n",
    "* **Neighborhood Longitude**: Coordinated information\n",
    "* **Venue**: The name of venue\n",
    "* **Venue Latitude**: Venue coordinates information\n",
    "* **Venue Longitude**: Venue coordinates information\n",
    "* **Venue Category**: The type of venue"
   ]
  },
  {
   "cell_type": "code",
   "execution_count": null,
   "metadata": {},
   "outputs": [],
   "source": []
  },
  {
   "cell_type": "code",
   "execution_count": null,
   "metadata": {},
   "outputs": [],
   "source": []
  },
  {
   "cell_type": "code",
   "execution_count": null,
   "metadata": {},
   "outputs": [],
   "source": []
  },
  {
   "cell_type": "code",
   "execution_count": null,
   "metadata": {},
   "outputs": [],
   "source": []
  },
  {
   "cell_type": "code",
   "execution_count": null,
   "metadata": {},
   "outputs": [],
   "source": []
  },
  {
   "cell_type": "code",
   "execution_count": null,
   "metadata": {},
   "outputs": [],
   "source": []
  },
  {
   "cell_type": "code",
   "execution_count": null,
   "metadata": {},
   "outputs": [],
   "source": []
  },
  {
   "cell_type": "code",
   "execution_count": null,
   "metadata": {},
   "outputs": [],
   "source": []
  }
 ],
 "metadata": {
  "kernelspec": {
   "display_name": "Python 3",
   "language": "python",
   "name": "python3"
  },
  "language_info": {
   "codemirror_mode": {
    "name": "ipython",
    "version": 3
   },
   "file_extension": ".py",
   "mimetype": "text/x-python",
   "name": "python",
   "nbconvert_exporter": "python",
   "pygments_lexer": "ipython3",
   "version": "3.7.4"
  }
 },
 "nbformat": 4,
 "nbformat_minor": 2
}
